{
 "cells": [
  {
   "cell_type": "code",
   "execution_count": 47,
   "id": "6a212bbd",
   "metadata": {},
   "outputs": [],
   "source": [
    "import pandas as pd\n",
    "import random\n",
    "import numpy as np\n",
    "from sklearn.tree import DecisionTreeRegressor,plot_tree\n",
    "from sklearn.tree import export_text\n",
    "import matplotlib.pyplot as plt"
   ]
  },
  {
   "cell_type": "code",
   "execution_count": 68,
   "id": "7a434beb",
   "metadata": {},
   "outputs": [],
   "source": [
    "data = {\n",
    "    'X1': [random.random() for _ in range(10)],\n",
    "    'X2': [random.random() for _ in range(10)],\n",
    "    'y': [random.randint(0, 1) for _ in range(10)]\n",
    "}"
   ]
  },
  {
   "cell_type": "code",
   "execution_count": 69,
   "id": "b578da7a",
   "metadata": {},
   "outputs": [],
   "source": [
    "df = pd.DataFrame(data)"
   ]
  },
  {
   "cell_type": "code",
   "execution_count": 70,
   "id": "c2a4cc60",
   "metadata": {},
   "outputs": [
    {
     "data": {
      "text/html": [
       "<div>\n",
       "<style scoped>\n",
       "    .dataframe tbody tr th:only-of-type {\n",
       "        vertical-align: middle;\n",
       "    }\n",
       "\n",
       "    .dataframe tbody tr th {\n",
       "        vertical-align: top;\n",
       "    }\n",
       "\n",
       "    .dataframe thead th {\n",
       "        text-align: right;\n",
       "    }\n",
       "</style>\n",
       "<table border=\"1\" class=\"dataframe\">\n",
       "  <thead>\n",
       "    <tr style=\"text-align: right;\">\n",
       "      <th></th>\n",
       "      <th>X1</th>\n",
       "      <th>X2</th>\n",
       "      <th>y</th>\n",
       "    </tr>\n",
       "  </thead>\n",
       "  <tbody>\n",
       "    <tr>\n",
       "      <th>0</th>\n",
       "      <td>0.333524</td>\n",
       "      <td>0.813967</td>\n",
       "      <td>1</td>\n",
       "    </tr>\n",
       "    <tr>\n",
       "      <th>1</th>\n",
       "      <td>0.603946</td>\n",
       "      <td>0.141812</td>\n",
       "      <td>0</td>\n",
       "    </tr>\n",
       "    <tr>\n",
       "      <th>2</th>\n",
       "      <td>0.310340</td>\n",
       "      <td>0.339415</td>\n",
       "      <td>1</td>\n",
       "    </tr>\n",
       "    <tr>\n",
       "      <th>3</th>\n",
       "      <td>0.116721</td>\n",
       "      <td>0.468795</td>\n",
       "      <td>0</td>\n",
       "    </tr>\n",
       "    <tr>\n",
       "      <th>4</th>\n",
       "      <td>0.578558</td>\n",
       "      <td>0.548958</td>\n",
       "      <td>1</td>\n",
       "    </tr>\n",
       "    <tr>\n",
       "      <th>5</th>\n",
       "      <td>0.709647</td>\n",
       "      <td>0.209685</td>\n",
       "      <td>1</td>\n",
       "    </tr>\n",
       "    <tr>\n",
       "      <th>6</th>\n",
       "      <td>0.526424</td>\n",
       "      <td>0.734044</td>\n",
       "      <td>0</td>\n",
       "    </tr>\n",
       "    <tr>\n",
       "      <th>7</th>\n",
       "      <td>0.927783</td>\n",
       "      <td>0.569289</td>\n",
       "      <td>1</td>\n",
       "    </tr>\n",
       "    <tr>\n",
       "      <th>8</th>\n",
       "      <td>0.301758</td>\n",
       "      <td>0.614637</td>\n",
       "      <td>0</td>\n",
       "    </tr>\n",
       "    <tr>\n",
       "      <th>9</th>\n",
       "      <td>0.710276</td>\n",
       "      <td>0.566021</td>\n",
       "      <td>1</td>\n",
       "    </tr>\n",
       "  </tbody>\n",
       "</table>\n",
       "</div>"
      ],
      "text/plain": [
       "         X1        X2  y\n",
       "0  0.333524  0.813967  1\n",
       "1  0.603946  0.141812  0\n",
       "2  0.310340  0.339415  1\n",
       "3  0.116721  0.468795  0\n",
       "4  0.578558  0.548958  1\n",
       "5  0.709647  0.209685  1\n",
       "6  0.526424  0.734044  0\n",
       "7  0.927783  0.569289  1\n",
       "8  0.301758  0.614637  0\n",
       "9  0.710276  0.566021  1"
      ]
     },
     "execution_count": 70,
     "metadata": {},
     "output_type": "execute_result"
    }
   ],
   "source": [
    "df"
   ]
  },
  {
   "cell_type": "code",
   "execution_count": 71,
   "id": "db012dcc",
   "metadata": {},
   "outputs": [],
   "source": [
    "X=df.drop(columns='y')"
   ]
  },
  {
   "cell_type": "code",
   "execution_count": 72,
   "id": "b0b355e7",
   "metadata": {},
   "outputs": [
    {
     "data": {
      "text/html": [
       "<div>\n",
       "<style scoped>\n",
       "    .dataframe tbody tr th:only-of-type {\n",
       "        vertical-align: middle;\n",
       "    }\n",
       "\n",
       "    .dataframe tbody tr th {\n",
       "        vertical-align: top;\n",
       "    }\n",
       "\n",
       "    .dataframe thead th {\n",
       "        text-align: right;\n",
       "    }\n",
       "</style>\n",
       "<table border=\"1\" class=\"dataframe\">\n",
       "  <thead>\n",
       "    <tr style=\"text-align: right;\">\n",
       "      <th></th>\n",
       "      <th>X1</th>\n",
       "      <th>X2</th>\n",
       "    </tr>\n",
       "  </thead>\n",
       "  <tbody>\n",
       "    <tr>\n",
       "      <th>0</th>\n",
       "      <td>0.333524</td>\n",
       "      <td>0.813967</td>\n",
       "    </tr>\n",
       "    <tr>\n",
       "      <th>1</th>\n",
       "      <td>0.603946</td>\n",
       "      <td>0.141812</td>\n",
       "    </tr>\n",
       "    <tr>\n",
       "      <th>2</th>\n",
       "      <td>0.310340</td>\n",
       "      <td>0.339415</td>\n",
       "    </tr>\n",
       "    <tr>\n",
       "      <th>3</th>\n",
       "      <td>0.116721</td>\n",
       "      <td>0.468795</td>\n",
       "    </tr>\n",
       "    <tr>\n",
       "      <th>4</th>\n",
       "      <td>0.578558</td>\n",
       "      <td>0.548958</td>\n",
       "    </tr>\n",
       "    <tr>\n",
       "      <th>5</th>\n",
       "      <td>0.709647</td>\n",
       "      <td>0.209685</td>\n",
       "    </tr>\n",
       "    <tr>\n",
       "      <th>6</th>\n",
       "      <td>0.526424</td>\n",
       "      <td>0.734044</td>\n",
       "    </tr>\n",
       "    <tr>\n",
       "      <th>7</th>\n",
       "      <td>0.927783</td>\n",
       "      <td>0.569289</td>\n",
       "    </tr>\n",
       "    <tr>\n",
       "      <th>8</th>\n",
       "      <td>0.301758</td>\n",
       "      <td>0.614637</td>\n",
       "    </tr>\n",
       "    <tr>\n",
       "      <th>9</th>\n",
       "      <td>0.710276</td>\n",
       "      <td>0.566021</td>\n",
       "    </tr>\n",
       "  </tbody>\n",
       "</table>\n",
       "</div>"
      ],
      "text/plain": [
       "         X1        X2\n",
       "0  0.333524  0.813967\n",
       "1  0.603946  0.141812\n",
       "2  0.310340  0.339415\n",
       "3  0.116721  0.468795\n",
       "4  0.578558  0.548958\n",
       "5  0.709647  0.209685\n",
       "6  0.526424  0.734044\n",
       "7  0.927783  0.569289\n",
       "8  0.301758  0.614637\n",
       "9  0.710276  0.566021"
      ]
     },
     "execution_count": 72,
     "metadata": {},
     "output_type": "execute_result"
    }
   ],
   "source": [
    "X"
   ]
  },
  {
   "cell_type": "code",
   "execution_count": 73,
   "id": "9eb0971c",
   "metadata": {},
   "outputs": [],
   "source": [
    "y=df['y']"
   ]
  },
  {
   "cell_type": "code",
   "execution_count": 74,
   "id": "1f6f4ac4",
   "metadata": {},
   "outputs": [
    {
     "data": {
      "text/plain": [
       "0    1\n",
       "1    0\n",
       "2    1\n",
       "3    0\n",
       "4    1\n",
       "5    1\n",
       "6    0\n",
       "7    1\n",
       "8    0\n",
       "9    1\n",
       "Name: y, dtype: int64"
      ]
     },
     "execution_count": 74,
     "metadata": {},
     "output_type": "execute_result"
    }
   ],
   "source": [
    "y"
   ]
  },
  {
   "cell_type": "code",
   "execution_count": 91,
   "id": "17f4cbe7",
   "metadata": {},
   "outputs": [],
   "source": [
    "df_new=df.copy()"
   ]
  },
  {
   "cell_type": "code",
   "execution_count": 92,
   "id": "51b960ce",
   "metadata": {},
   "outputs": [
    {
     "data": {
      "text/html": [
       "<div>\n",
       "<style scoped>\n",
       "    .dataframe tbody tr th:only-of-type {\n",
       "        vertical-align: middle;\n",
       "    }\n",
       "\n",
       "    .dataframe tbody tr th {\n",
       "        vertical-align: top;\n",
       "    }\n",
       "\n",
       "    .dataframe thead th {\n",
       "        text-align: right;\n",
       "    }\n",
       "</style>\n",
       "<table border=\"1\" class=\"dataframe\">\n",
       "  <thead>\n",
       "    <tr style=\"text-align: right;\">\n",
       "      <th></th>\n",
       "      <th>X1</th>\n",
       "      <th>X2</th>\n",
       "      <th>y</th>\n",
       "    </tr>\n",
       "  </thead>\n",
       "  <tbody>\n",
       "    <tr>\n",
       "      <th>0</th>\n",
       "      <td>0.333524</td>\n",
       "      <td>0.813967</td>\n",
       "      <td>1</td>\n",
       "    </tr>\n",
       "    <tr>\n",
       "      <th>1</th>\n",
       "      <td>0.603946</td>\n",
       "      <td>0.141812</td>\n",
       "      <td>0</td>\n",
       "    </tr>\n",
       "    <tr>\n",
       "      <th>2</th>\n",
       "      <td>0.310340</td>\n",
       "      <td>0.339415</td>\n",
       "      <td>1</td>\n",
       "    </tr>\n",
       "    <tr>\n",
       "      <th>3</th>\n",
       "      <td>0.116721</td>\n",
       "      <td>0.468795</td>\n",
       "      <td>0</td>\n",
       "    </tr>\n",
       "    <tr>\n",
       "      <th>4</th>\n",
       "      <td>0.578558</td>\n",
       "      <td>0.548958</td>\n",
       "      <td>1</td>\n",
       "    </tr>\n",
       "    <tr>\n",
       "      <th>5</th>\n",
       "      <td>0.709647</td>\n",
       "      <td>0.209685</td>\n",
       "      <td>1</td>\n",
       "    </tr>\n",
       "    <tr>\n",
       "      <th>6</th>\n",
       "      <td>0.526424</td>\n",
       "      <td>0.734044</td>\n",
       "      <td>0</td>\n",
       "    </tr>\n",
       "    <tr>\n",
       "      <th>7</th>\n",
       "      <td>0.927783</td>\n",
       "      <td>0.569289</td>\n",
       "      <td>1</td>\n",
       "    </tr>\n",
       "    <tr>\n",
       "      <th>8</th>\n",
       "      <td>0.301758</td>\n",
       "      <td>0.614637</td>\n",
       "      <td>0</td>\n",
       "    </tr>\n",
       "    <tr>\n",
       "      <th>9</th>\n",
       "      <td>0.710276</td>\n",
       "      <td>0.566021</td>\n",
       "      <td>1</td>\n",
       "    </tr>\n",
       "  </tbody>\n",
       "</table>\n",
       "</div>"
      ],
      "text/plain": [
       "         X1        X2  y\n",
       "0  0.333524  0.813967  1\n",
       "1  0.603946  0.141812  0\n",
       "2  0.310340  0.339415  1\n",
       "3  0.116721  0.468795  0\n",
       "4  0.578558  0.548958  1\n",
       "5  0.709647  0.209685  1\n",
       "6  0.526424  0.734044  0\n",
       "7  0.927783  0.569289  1\n",
       "8  0.301758  0.614637  0\n",
       "9  0.710276  0.566021  1"
      ]
     },
     "execution_count": 92,
     "metadata": {},
     "output_type": "execute_result"
    }
   ],
   "source": [
    "df_new"
   ]
  },
  {
   "cell_type": "code",
   "execution_count": 93,
   "id": "f4d1269e",
   "metadata": {},
   "outputs": [],
   "source": [
    "df_new['log_odds']=sum(df['y'])/(df.shape[0]-sum(df['y']))"
   ]
  },
  {
   "cell_type": "code",
   "execution_count": 94,
   "id": "9924c22b",
   "metadata": {},
   "outputs": [
    {
     "data": {
      "text/html": [
       "<div>\n",
       "<style scoped>\n",
       "    .dataframe tbody tr th:only-of-type {\n",
       "        vertical-align: middle;\n",
       "    }\n",
       "\n",
       "    .dataframe tbody tr th {\n",
       "        vertical-align: top;\n",
       "    }\n",
       "\n",
       "    .dataframe thead th {\n",
       "        text-align: right;\n",
       "    }\n",
       "</style>\n",
       "<table border=\"1\" class=\"dataframe\">\n",
       "  <thead>\n",
       "    <tr style=\"text-align: right;\">\n",
       "      <th></th>\n",
       "      <th>X1</th>\n",
       "      <th>X2</th>\n",
       "      <th>y</th>\n",
       "      <th>log_odds</th>\n",
       "    </tr>\n",
       "  </thead>\n",
       "  <tbody>\n",
       "    <tr>\n",
       "      <th>0</th>\n",
       "      <td>0.333524</td>\n",
       "      <td>0.813967</td>\n",
       "      <td>1</td>\n",
       "      <td>1.5</td>\n",
       "    </tr>\n",
       "    <tr>\n",
       "      <th>1</th>\n",
       "      <td>0.603946</td>\n",
       "      <td>0.141812</td>\n",
       "      <td>0</td>\n",
       "      <td>1.5</td>\n",
       "    </tr>\n",
       "    <tr>\n",
       "      <th>2</th>\n",
       "      <td>0.310340</td>\n",
       "      <td>0.339415</td>\n",
       "      <td>1</td>\n",
       "      <td>1.5</td>\n",
       "    </tr>\n",
       "    <tr>\n",
       "      <th>3</th>\n",
       "      <td>0.116721</td>\n",
       "      <td>0.468795</td>\n",
       "      <td>0</td>\n",
       "      <td>1.5</td>\n",
       "    </tr>\n",
       "    <tr>\n",
       "      <th>4</th>\n",
       "      <td>0.578558</td>\n",
       "      <td>0.548958</td>\n",
       "      <td>1</td>\n",
       "      <td>1.5</td>\n",
       "    </tr>\n",
       "    <tr>\n",
       "      <th>5</th>\n",
       "      <td>0.709647</td>\n",
       "      <td>0.209685</td>\n",
       "      <td>1</td>\n",
       "      <td>1.5</td>\n",
       "    </tr>\n",
       "    <tr>\n",
       "      <th>6</th>\n",
       "      <td>0.526424</td>\n",
       "      <td>0.734044</td>\n",
       "      <td>0</td>\n",
       "      <td>1.5</td>\n",
       "    </tr>\n",
       "    <tr>\n",
       "      <th>7</th>\n",
       "      <td>0.927783</td>\n",
       "      <td>0.569289</td>\n",
       "      <td>1</td>\n",
       "      <td>1.5</td>\n",
       "    </tr>\n",
       "    <tr>\n",
       "      <th>8</th>\n",
       "      <td>0.301758</td>\n",
       "      <td>0.614637</td>\n",
       "      <td>0</td>\n",
       "      <td>1.5</td>\n",
       "    </tr>\n",
       "    <tr>\n",
       "      <th>9</th>\n",
       "      <td>0.710276</td>\n",
       "      <td>0.566021</td>\n",
       "      <td>1</td>\n",
       "      <td>1.5</td>\n",
       "    </tr>\n",
       "  </tbody>\n",
       "</table>\n",
       "</div>"
      ],
      "text/plain": [
       "         X1        X2  y  log_odds\n",
       "0  0.333524  0.813967  1       1.5\n",
       "1  0.603946  0.141812  0       1.5\n",
       "2  0.310340  0.339415  1       1.5\n",
       "3  0.116721  0.468795  0       1.5\n",
       "4  0.578558  0.548958  1       1.5\n",
       "5  0.709647  0.209685  1       1.5\n",
       "6  0.526424  0.734044  0       1.5\n",
       "7  0.927783  0.569289  1       1.5\n",
       "8  0.301758  0.614637  0       1.5\n",
       "9  0.710276  0.566021  1       1.5"
      ]
     },
     "execution_count": 94,
     "metadata": {},
     "output_type": "execute_result"
    }
   ],
   "source": [
    "df_new"
   ]
  },
  {
   "cell_type": "code",
   "execution_count": 95,
   "id": "28b231cb",
   "metadata": {},
   "outputs": [],
   "source": [
    "df_new['prob']=(np.exp(df_new['log_odds'])) / (1 + np.exp(df_new['log_odds']))"
   ]
  },
  {
   "cell_type": "code",
   "execution_count": 96,
   "id": "39726a49",
   "metadata": {},
   "outputs": [],
   "source": [
    "df_new['residual']=df_new['y']-df_new['prob']"
   ]
  },
  {
   "cell_type": "code",
   "execution_count": 97,
   "id": "edb2e7cd",
   "metadata": {},
   "outputs": [
    {
     "data": {
      "text/html": [
       "<div>\n",
       "<style scoped>\n",
       "    .dataframe tbody tr th:only-of-type {\n",
       "        vertical-align: middle;\n",
       "    }\n",
       "\n",
       "    .dataframe tbody tr th {\n",
       "        vertical-align: top;\n",
       "    }\n",
       "\n",
       "    .dataframe thead th {\n",
       "        text-align: right;\n",
       "    }\n",
       "</style>\n",
       "<table border=\"1\" class=\"dataframe\">\n",
       "  <thead>\n",
       "    <tr style=\"text-align: right;\">\n",
       "      <th></th>\n",
       "      <th>X1</th>\n",
       "      <th>X2</th>\n",
       "      <th>y</th>\n",
       "      <th>log_odds</th>\n",
       "      <th>prob</th>\n",
       "      <th>residual</th>\n",
       "    </tr>\n",
       "  </thead>\n",
       "  <tbody>\n",
       "    <tr>\n",
       "      <th>0</th>\n",
       "      <td>0.333524</td>\n",
       "      <td>0.813967</td>\n",
       "      <td>1</td>\n",
       "      <td>1.5</td>\n",
       "      <td>0.817574</td>\n",
       "      <td>0.182426</td>\n",
       "    </tr>\n",
       "    <tr>\n",
       "      <th>1</th>\n",
       "      <td>0.603946</td>\n",
       "      <td>0.141812</td>\n",
       "      <td>0</td>\n",
       "      <td>1.5</td>\n",
       "      <td>0.817574</td>\n",
       "      <td>-0.817574</td>\n",
       "    </tr>\n",
       "    <tr>\n",
       "      <th>2</th>\n",
       "      <td>0.310340</td>\n",
       "      <td>0.339415</td>\n",
       "      <td>1</td>\n",
       "      <td>1.5</td>\n",
       "      <td>0.817574</td>\n",
       "      <td>0.182426</td>\n",
       "    </tr>\n",
       "    <tr>\n",
       "      <th>3</th>\n",
       "      <td>0.116721</td>\n",
       "      <td>0.468795</td>\n",
       "      <td>0</td>\n",
       "      <td>1.5</td>\n",
       "      <td>0.817574</td>\n",
       "      <td>-0.817574</td>\n",
       "    </tr>\n",
       "    <tr>\n",
       "      <th>4</th>\n",
       "      <td>0.578558</td>\n",
       "      <td>0.548958</td>\n",
       "      <td>1</td>\n",
       "      <td>1.5</td>\n",
       "      <td>0.817574</td>\n",
       "      <td>0.182426</td>\n",
       "    </tr>\n",
       "    <tr>\n",
       "      <th>5</th>\n",
       "      <td>0.709647</td>\n",
       "      <td>0.209685</td>\n",
       "      <td>1</td>\n",
       "      <td>1.5</td>\n",
       "      <td>0.817574</td>\n",
       "      <td>0.182426</td>\n",
       "    </tr>\n",
       "    <tr>\n",
       "      <th>6</th>\n",
       "      <td>0.526424</td>\n",
       "      <td>0.734044</td>\n",
       "      <td>0</td>\n",
       "      <td>1.5</td>\n",
       "      <td>0.817574</td>\n",
       "      <td>-0.817574</td>\n",
       "    </tr>\n",
       "    <tr>\n",
       "      <th>7</th>\n",
       "      <td>0.927783</td>\n",
       "      <td>0.569289</td>\n",
       "      <td>1</td>\n",
       "      <td>1.5</td>\n",
       "      <td>0.817574</td>\n",
       "      <td>0.182426</td>\n",
       "    </tr>\n",
       "    <tr>\n",
       "      <th>8</th>\n",
       "      <td>0.301758</td>\n",
       "      <td>0.614637</td>\n",
       "      <td>0</td>\n",
       "      <td>1.5</td>\n",
       "      <td>0.817574</td>\n",
       "      <td>-0.817574</td>\n",
       "    </tr>\n",
       "    <tr>\n",
       "      <th>9</th>\n",
       "      <td>0.710276</td>\n",
       "      <td>0.566021</td>\n",
       "      <td>1</td>\n",
       "      <td>1.5</td>\n",
       "      <td>0.817574</td>\n",
       "      <td>0.182426</td>\n",
       "    </tr>\n",
       "  </tbody>\n",
       "</table>\n",
       "</div>"
      ],
      "text/plain": [
       "         X1        X2  y  log_odds      prob  residual\n",
       "0  0.333524  0.813967  1       1.5  0.817574  0.182426\n",
       "1  0.603946  0.141812  0       1.5  0.817574 -0.817574\n",
       "2  0.310340  0.339415  1       1.5  0.817574  0.182426\n",
       "3  0.116721  0.468795  0       1.5  0.817574 -0.817574\n",
       "4  0.578558  0.548958  1       1.5  0.817574  0.182426\n",
       "5  0.709647  0.209685  1       1.5  0.817574  0.182426\n",
       "6  0.526424  0.734044  0       1.5  0.817574 -0.817574\n",
       "7  0.927783  0.569289  1       1.5  0.817574  0.182426\n",
       "8  0.301758  0.614637  0       1.5  0.817574 -0.817574\n",
       "9  0.710276  0.566021  1       1.5  0.817574  0.182426"
      ]
     },
     "execution_count": 97,
     "metadata": {},
     "output_type": "execute_result"
    }
   ],
   "source": [
    "df_new"
   ]
  },
  {
   "cell_type": "code",
   "execution_count": 134,
   "id": "b744bdb7",
   "metadata": {},
   "outputs": [],
   "source": [
    "df_1 = df_new.copy()"
   ]
  },
  {
   "cell_type": "code",
   "execution_count": 136,
   "id": "dffab0b1",
   "metadata": {},
   "outputs": [],
   "source": [
    "model=DecisionTreeRegressor(max_leaf_nodes=3)"
   ]
  },
  {
   "cell_type": "code",
   "execution_count": 137,
   "id": "dfd94af8",
   "metadata": {},
   "outputs": [
    {
     "data": {
      "text/html": [
       "<style>#sk-container-id-7 {color: black;}#sk-container-id-7 pre{padding: 0;}#sk-container-id-7 div.sk-toggleable {background-color: white;}#sk-container-id-7 label.sk-toggleable__label {cursor: pointer;display: block;width: 100%;margin-bottom: 0;padding: 0.3em;box-sizing: border-box;text-align: center;}#sk-container-id-7 label.sk-toggleable__label-arrow:before {content: \"▸\";float: left;margin-right: 0.25em;color: #696969;}#sk-container-id-7 label.sk-toggleable__label-arrow:hover:before {color: black;}#sk-container-id-7 div.sk-estimator:hover label.sk-toggleable__label-arrow:before {color: black;}#sk-container-id-7 div.sk-toggleable__content {max-height: 0;max-width: 0;overflow: hidden;text-align: left;background-color: #f0f8ff;}#sk-container-id-7 div.sk-toggleable__content pre {margin: 0.2em;color: black;border-radius: 0.25em;background-color: #f0f8ff;}#sk-container-id-7 input.sk-toggleable__control:checked~div.sk-toggleable__content {max-height: 200px;max-width: 100%;overflow: auto;}#sk-container-id-7 input.sk-toggleable__control:checked~label.sk-toggleable__label-arrow:before {content: \"▾\";}#sk-container-id-7 div.sk-estimator input.sk-toggleable__control:checked~label.sk-toggleable__label {background-color: #d4ebff;}#sk-container-id-7 div.sk-label input.sk-toggleable__control:checked~label.sk-toggleable__label {background-color: #d4ebff;}#sk-container-id-7 input.sk-hidden--visually {border: 0;clip: rect(1px 1px 1px 1px);clip: rect(1px, 1px, 1px, 1px);height: 1px;margin: -1px;overflow: hidden;padding: 0;position: absolute;width: 1px;}#sk-container-id-7 div.sk-estimator {font-family: monospace;background-color: #f0f8ff;border: 1px dotted black;border-radius: 0.25em;box-sizing: border-box;margin-bottom: 0.5em;}#sk-container-id-7 div.sk-estimator:hover {background-color: #d4ebff;}#sk-container-id-7 div.sk-parallel-item::after {content: \"\";width: 100%;border-bottom: 1px solid gray;flex-grow: 1;}#sk-container-id-7 div.sk-label:hover label.sk-toggleable__label {background-color: #d4ebff;}#sk-container-id-7 div.sk-serial::before {content: \"\";position: absolute;border-left: 1px solid gray;box-sizing: border-box;top: 0;bottom: 0;left: 50%;z-index: 0;}#sk-container-id-7 div.sk-serial {display: flex;flex-direction: column;align-items: center;background-color: white;padding-right: 0.2em;padding-left: 0.2em;position: relative;}#sk-container-id-7 div.sk-item {position: relative;z-index: 1;}#sk-container-id-7 div.sk-parallel {display: flex;align-items: stretch;justify-content: center;background-color: white;position: relative;}#sk-container-id-7 div.sk-item::before, #sk-container-id-7 div.sk-parallel-item::before {content: \"\";position: absolute;border-left: 1px solid gray;box-sizing: border-box;top: 0;bottom: 0;left: 50%;z-index: -1;}#sk-container-id-7 div.sk-parallel-item {display: flex;flex-direction: column;z-index: 1;position: relative;background-color: white;}#sk-container-id-7 div.sk-parallel-item:first-child::after {align-self: flex-end;width: 50%;}#sk-container-id-7 div.sk-parallel-item:last-child::after {align-self: flex-start;width: 50%;}#sk-container-id-7 div.sk-parallel-item:only-child::after {width: 0;}#sk-container-id-7 div.sk-dashed-wrapped {border: 1px dashed gray;margin: 0 0.4em 0.5em 0.4em;box-sizing: border-box;padding-bottom: 0.4em;background-color: white;}#sk-container-id-7 div.sk-label label {font-family: monospace;font-weight: bold;display: inline-block;line-height: 1.2em;}#sk-container-id-7 div.sk-label-container {text-align: center;}#sk-container-id-7 div.sk-container {/* jupyter's `normalize.less` sets `[hidden] { display: none; }` but bootstrap.min.css set `[hidden] { display: none !important; }` so we also need the `!important` here to be able to override the default hidden behavior on the sphinx rendered scikit-learn.org. See: https://github.com/scikit-learn/scikit-learn/issues/21755 */display: inline-block !important;position: relative;}#sk-container-id-7 div.sk-text-repr-fallback {display: none;}</style><div id=\"sk-container-id-7\" class=\"sk-top-container\"><div class=\"sk-text-repr-fallback\"><pre>DecisionTreeRegressor(max_leaf_nodes=3)</pre><b>In a Jupyter environment, please rerun this cell to show the HTML representation or trust the notebook. <br />On GitHub, the HTML representation is unable to render, please try loading this page with nbviewer.org.</b></div><div class=\"sk-container\" hidden><div class=\"sk-item\"><div class=\"sk-estimator sk-toggleable\"><input class=\"sk-toggleable__control sk-hidden--visually\" id=\"sk-estimator-id-7\" type=\"checkbox\" checked><label for=\"sk-estimator-id-7\" class=\"sk-toggleable__label sk-toggleable__label-arrow\">DecisionTreeRegressor</label><div class=\"sk-toggleable__content\"><pre>DecisionTreeRegressor(max_leaf_nodes=3)</pre></div></div></div></div></div>"
      ],
      "text/plain": [
       "DecisionTreeRegressor(max_leaf_nodes=3)"
      ]
     },
     "execution_count": 137,
     "metadata": {},
     "output_type": "execute_result"
    }
   ],
   "source": [
    "model.fit(X,df_1['residual'])"
   ]
  },
  {
   "cell_type": "code",
   "execution_count": 138,
   "id": "fe050ea2",
   "metadata": {},
   "outputs": [
    {
     "data": {
      "image/png": "[encoded data removed]",
      "text/plain": [
       "<Figure size 600x400 with 1 Axes>"
      ]
     },
     "metadata": {},
     "output_type": "display_data"
    }
   ],
   "source": [
    "plt.figure(figsize=(6, 4))  # You can adjust the figure size as needed\n",
    "plot_tree(model, filled=True, feature_names=x.columns)\n",
    "plt.show()"
   ]
  },
  {
   "cell_type": "code",
   "execution_count": 102,
   "id": "feba82dd",
   "metadata": {},
   "outputs": [
    {
     "name": "stdout",
     "output_type": "stream",
     "text": [
      "[4 3 4 1 4 4 4 4 1 4]\n"
     ]
    }
   ],
   "source": [
    "leaf_indeces=model.apply(X)\n",
    "print(leaf_indeces)\n",
    "unique_leaves=np.unique(leaf_indeces)\n",
    "n_leaf=len(unique_leaves)"
   ]
  },
  {
   "cell_type": "code",
   "execution_count": 104,
   "id": "48dde2c9",
   "metadata": {},
   "outputs": [
    {
     "data": {
      "text/plain": [
       "array([1, 3, 4], dtype=int64)"
      ]
     },
     "execution_count": 104,
     "metadata": {},
     "output_type": "execute_result"
    }
   ],
   "source": [
    "unique_leaves"
   ]
  },
  {
   "cell_type": "code",
   "execution_count": 108,
   "id": "f5ea4880",
   "metadata": {},
   "outputs": [],
   "source": [
    "probabilities = [[]]\n",
    "residuals = [[]]"
   ]
  },
  {
   "cell_type": "code",
   "execution_count": 131,
   "id": "0d65430e",
   "metadata": {},
   "outputs": [],
   "source": [
    "gamma_value = [[], []]"
   ]
  },
  {
   "cell_type": "code",
   "execution_count": 111,
   "id": "a58d1788",
   "metadata": {},
   "outputs": [],
   "source": [
    "probabilities[0] = df_1['prob']\n",
    "residuals[0] = y - probabilities[0]"
   ]
  },
  {
   "cell_type": "code",
   "execution_count": 129,
   "id": "2a66527e",
   "metadata": {},
   "outputs": [],
   "source": [
    "gamma_value = [[] for _ in range(n_leaf)]\n",
    "for idx in [0,1]:\n",
    "    if not gamma_value[idx]:\n",
    "        gamma_value[idx] = []"
   ]
  },
  {
   "cell_type": "code",
   "execution_count": 130,
   "id": "3a18a3d0",
   "metadata": {},
   "outputs": [
    {
     "data": {
      "text/plain": [
       "[[], []]"
      ]
     },
     "execution_count": 130,
     "metadata": {},
     "output_type": "execute_result"
    }
   ],
   "source": [
    "gamma_value"
   ]
  },
  {
   "cell_type": "code",
   "execution_count": 133,
   "id": "9e3ce54e",
   "metadata": {},
   "outputs": [
    {
     "ename": "IndexError",
     "evalue": "list index out of range",
     "output_type": "error",
     "traceback": [
      "\u001b[1;31m---------------------------------------------------------------------------\u001b[0m",
      "\u001b[1;31mIndexError\u001b[0m                                Traceback (most recent call last)",
      "Cell \u001b[1;32mIn[133], line 1\u001b[0m\n\u001b[1;32m----> 1\u001b[0m gamma_value[\u001b[38;5;241m0\u001b[39m][\u001b[38;5;241m0\u001b[39m]\u001b[38;5;241m.\u001b[39mappend(\u001b[38;5;241m1\u001b[39m)\n",
      "\u001b[1;31mIndexError\u001b[0m: list index out of range"
     ]
    }
   ],
   "source": [
    "gamma_value[0][0].append(1)"
   ]
  },
  {
   "cell_type": "code",
   "execution_count": 132,
   "id": "1bcf4c88",
   "metadata": {},
   "outputs": [
    {
     "ename": "IndexError",
     "evalue": "list index out of range",
     "output_type": "error",
     "traceback": [
      "\u001b[1;31m---------------------------------------------------------------------------\u001b[0m",
      "\u001b[1;31mIndexError\u001b[0m                                Traceback (most recent call last)",
      "Cell \u001b[1;32mIn[132], line 7\u001b[0m\n\u001b[0;32m      5\u001b[0m denominator \u001b[38;5;241m=\u001b[39m np\u001b[38;5;241m.\u001b[39msum(previous_probability \u001b[38;5;241m*\u001b[39m (\u001b[38;5;241m1\u001b[39m\u001b[38;5;241m-\u001b[39mprevious_probability))\n\u001b[0;32m      6\u001b[0m igamma \u001b[38;5;241m=\u001b[39m model\u001b[38;5;241m.\u001b[39mtree_\u001b[38;5;241m.\u001b[39mvalue[ileaf\u001b[38;5;241m+\u001b[39m\u001b[38;5;241m1\u001b[39m][\u001b[38;5;241m0\u001b[39m][\u001b[38;5;241m0\u001b[39m] \u001b[38;5;241m*\u001b[39m n_leaf \u001b[38;5;241m/\u001b[39m denominator\n\u001b[1;32m----> 7\u001b[0m gamma_value[\u001b[38;5;241m0\u001b[39m][ileaf]\u001b[38;5;241m.\u001b[39mappend(igamma)\n\u001b[0;32m      8\u001b[0m \u001b[38;5;28mprint\u001b[39m(\u001b[38;5;124mf\u001b[39m\u001b[38;5;124m'\u001b[39m\u001b[38;5;124mfor leaf \u001b[39m\u001b[38;5;132;01m{\u001b[39;00mleaf_index\u001b[38;5;132;01m}\u001b[39;00m\u001b[38;5;124m, we have \u001b[39m\u001b[38;5;132;01m{\u001b[39;00mn_leaf\u001b[38;5;132;01m}\u001b[39;00m\u001b[38;5;124m related samples. and gamma is \u001b[39m\u001b[38;5;132;01m{\u001b[39;00migamma\u001b[38;5;132;01m}\u001b[39;00m\u001b[38;5;124m'\u001b[39m)\n",
      "\u001b[1;31mIndexError\u001b[0m: list index out of range"
     ]
    }
   ],
   "source": [
    "for ileaf in range(n_leaf):        \n",
    "    leaf_index=unique_leaves[ileaf]\n",
    "    n_leaf=len(leaf_indeces[leaf_indeces==leaf_index])\n",
    "    previous_probability = probabilities[0][leaf_indeces==leaf_index]\n",
    "    denominator = np.sum(previous_probability * (1-previous_probability))\n",
    "    igamma = model.tree_.value[ileaf+1][0][0] * n_leaf / denominator\n",
    "    gamma_value[0][ileaf].append(igamma)\n",
    "    print(f'for leaf {leaf_index}, we have {n_leaf} related samples. and gamma is {igamma}')"
   ]
  },
  {
   "cell_type": "code",
   "execution_count": 90,
   "id": "372134e4",
   "metadata": {},
   "outputs": [
    {
     "data": {
      "text/html": [
       "<div>\n",
       "<style scoped>\n",
       "    .dataframe tbody tr th:only-of-type {\n",
       "        vertical-align: middle;\n",
       "    }\n",
       "\n",
       "    .dataframe tbody tr th {\n",
       "        vertical-align: top;\n",
       "    }\n",
       "\n",
       "    .dataframe thead th {\n",
       "        text-align: right;\n",
       "    }\n",
       "</style>\n",
       "<table border=\"1\" class=\"dataframe\">\n",
       "  <thead>\n",
       "    <tr style=\"text-align: right;\">\n",
       "      <th></th>\n",
       "      <th>X1</th>\n",
       "      <th>X2</th>\n",
       "      <th>y</th>\n",
       "      <th>log_odds</th>\n",
       "      <th>prob</th>\n",
       "      <th>residual</th>\n",
       "      <th>pred_resi</th>\n",
       "    </tr>\n",
       "  </thead>\n",
       "  <tbody>\n",
       "    <tr>\n",
       "      <th>0</th>\n",
       "      <td>0.333524</td>\n",
       "      <td>0.813967</td>\n",
       "      <td>1</td>\n",
       "      <td>1.5</td>\n",
       "      <td>0.817574</td>\n",
       "      <td>0.182426</td>\n",
       "      <td>4</td>\n",
       "    </tr>\n",
       "    <tr>\n",
       "      <th>1</th>\n",
       "      <td>0.603946</td>\n",
       "      <td>0.141812</td>\n",
       "      <td>0</td>\n",
       "      <td>1.5</td>\n",
       "      <td>0.817574</td>\n",
       "      <td>-0.817574</td>\n",
       "      <td>3</td>\n",
       "    </tr>\n",
       "    <tr>\n",
       "      <th>2</th>\n",
       "      <td>0.310340</td>\n",
       "      <td>0.339415</td>\n",
       "      <td>1</td>\n",
       "      <td>1.5</td>\n",
       "      <td>0.817574</td>\n",
       "      <td>0.182426</td>\n",
       "      <td>4</td>\n",
       "    </tr>\n",
       "    <tr>\n",
       "      <th>3</th>\n",
       "      <td>0.116721</td>\n",
       "      <td>0.468795</td>\n",
       "      <td>0</td>\n",
       "      <td>1.5</td>\n",
       "      <td>0.817574</td>\n",
       "      <td>-0.817574</td>\n",
       "      <td>1</td>\n",
       "    </tr>\n",
       "    <tr>\n",
       "      <th>4</th>\n",
       "      <td>0.578558</td>\n",
       "      <td>0.548958</td>\n",
       "      <td>1</td>\n",
       "      <td>1.5</td>\n",
       "      <td>0.817574</td>\n",
       "      <td>0.182426</td>\n",
       "      <td>4</td>\n",
       "    </tr>\n",
       "    <tr>\n",
       "      <th>5</th>\n",
       "      <td>0.709647</td>\n",
       "      <td>0.209685</td>\n",
       "      <td>1</td>\n",
       "      <td>1.5</td>\n",
       "      <td>0.817574</td>\n",
       "      <td>0.182426</td>\n",
       "      <td>4</td>\n",
       "    </tr>\n",
       "    <tr>\n",
       "      <th>6</th>\n",
       "      <td>0.526424</td>\n",
       "      <td>0.734044</td>\n",
       "      <td>0</td>\n",
       "      <td>1.5</td>\n",
       "      <td>0.817574</td>\n",
       "      <td>-0.817574</td>\n",
       "      <td>4</td>\n",
       "    </tr>\n",
       "    <tr>\n",
       "      <th>7</th>\n",
       "      <td>0.927783</td>\n",
       "      <td>0.569289</td>\n",
       "      <td>1</td>\n",
       "      <td>1.5</td>\n",
       "      <td>0.817574</td>\n",
       "      <td>0.182426</td>\n",
       "      <td>4</td>\n",
       "    </tr>\n",
       "    <tr>\n",
       "      <th>8</th>\n",
       "      <td>0.301758</td>\n",
       "      <td>0.614637</td>\n",
       "      <td>0</td>\n",
       "      <td>1.5</td>\n",
       "      <td>0.817574</td>\n",
       "      <td>-0.817574</td>\n",
       "      <td>1</td>\n",
       "    </tr>\n",
       "    <tr>\n",
       "      <th>9</th>\n",
       "      <td>0.710276</td>\n",
       "      <td>0.566021</td>\n",
       "      <td>1</td>\n",
       "      <td>1.5</td>\n",
       "      <td>0.817574</td>\n",
       "      <td>0.182426</td>\n",
       "      <td>4</td>\n",
       "    </tr>\n",
       "  </tbody>\n",
       "</table>\n",
       "</div>"
      ],
      "text/plain": [
       "         X1        X2  y  log_odds      prob  residual  pred_resi\n",
       "0  0.333524  0.813967  1       1.5  0.817574  0.182426          4\n",
       "1  0.603946  0.141812  0       1.5  0.817574 -0.817574          3\n",
       "2  0.310340  0.339415  1       1.5  0.817574  0.182426          4\n",
       "3  0.116721  0.468795  0       1.5  0.817574 -0.817574          1\n",
       "4  0.578558  0.548958  1       1.5  0.817574  0.182426          4\n",
       "5  0.709647  0.209685  1       1.5  0.817574  0.182426          4\n",
       "6  0.526424  0.734044  0       1.5  0.817574 -0.817574          4\n",
       "7  0.927783  0.569289  1       1.5  0.817574  0.182426          4\n",
       "8  0.301758  0.614637  0       1.5  0.817574 -0.817574          1\n",
       "9  0.710276  0.566021  1       1.5  0.817574  0.182426          4"
      ]
     },
     "execution_count": 90,
     "metadata": {},
     "output_type": "execute_result"
    }
   ],
   "source": [
    "df_new"
   ]
  },
  {
   "cell_type": "code",
   "execution_count": 36,
   "id": "3e0e5fd2",
   "metadata": {},
   "outputs": [],
   "source": [
    "tree_text = export_text(model, feature_names=x.columns)"
   ]
  },
  {
   "cell_type": "code",
   "execution_count": 37,
   "id": "ebace428",
   "metadata": {},
   "outputs": [
    {
     "data": {
      "text/plain": [
       "'|--- X2 <= 0.32\\n|   |--- value: [-0.65]\\n|--- X2 >  0.32\\n|   |--- X2 <= 0.55\\n|   |   |--- value: [0.35]\\n|   |--- X2 >  0.55\\n|   |   |--- X1 <= 0.71\\n|   |   |   |--- value: [-0.40]\\n|   |   |--- X1 >  0.71\\n|   |   |   |--- value: [0.35]\\n'"
      ]
     },
     "execution_count": 37,
     "metadata": {},
     "output_type": "execute_result"
    }
   ],
   "source": [
    "tree_text"
   ]
  },
  {
   "cell_type": "code",
   "execution_count": 38,
   "id": "1559882d",
   "metadata": {},
   "outputs": [
    {
     "name": "stdout",
     "output_type": "stream",
     "text": [
      "|--- X2 <= 0.32\n",
      "|   |--- value: [-0.65]\n",
      "|--- X2 >  0.32\n",
      "|   |--- X2 <= 0.55\n",
      "|   |   |--- value: [0.35]\n",
      "|   |--- X2 >  0.55\n",
      "|   |   |--- X1 <= 0.71\n",
      "|   |   |   |--- value: [-0.40]\n",
      "|   |   |--- X1 >  0.71\n",
      "|   |   |   |--- value: [0.35]\n",
      "\n"
     ]
    }
   ],
   "source": [
    "print(tree_text)"
   ]
  },
  {
   "cell_type": "code",
   "execution_count": 56,
   "id": "0afdf60a",
   "metadata": {},
   "outputs": [
    {
     "data": {
      "image/png": "[encoded data removed]",
      "text/plain": [
       "<Figure size 600x400 with 1 Axes>"
      ]
     },
     "metadata": {},
     "output_type": "display_data"
    }
   ],
   "source": [
    "plt.figure(figsize=(6, 4))  # You can adjust the figure size as needed\n",
    "plot_tree(model, filled=True, feature_names=x.columns)\n",
    "plt.show()"
   ]
  },
  {
   "cell_type": "code",
   "execution_count": null,
   "id": "8199f038",
   "metadata": {},
   "outputs": [],
   "source": []
  },
  {
   "cell_type": "code",
   "execution_count": null,
   "id": "e9443f9b",
   "metadata": {},
   "outputs": [],
   "source": []
  },
  {
   "cell_type": "code",
   "execution_count": null,
   "id": "0cb21e19",
   "metadata": {},
   "outputs": [],
   "source": []
  },
  {
   "cell_type": "code",
   "execution_count": null,
   "id": "6d8fd0b5",
   "metadata": {},
   "outputs": [],
   "source": []
  },
  {
   "cell_type": "code",
   "execution_count": null,
   "id": "90e7f312",
   "metadata": {},
   "outputs": [],
   "source": []
  },
  {
   "cell_type": "code",
   "execution_count": null,
   "id": "e11f8a38",
   "metadata": {},
   "outputs": [],
   "source": []
  }
 ],
 "metadata": {
  "kernelspec": {
   "display_name": "Python 3 (ipykernel)",
   "language": "python",
   "name": "python3"
  },
  "language_info": {
   "codemirror_mode": {
    "name": "ipython",
    "version": 3
   },
   "file_extension": ".py",
   "mimetype": "text/x-python",
   "name": "python",
   "nbconvert_exporter": "python",
   "pygments_lexer": "ipython3",
   "version": "3.11.3"
  }
 },
 "nbformat": 4,
 "nbformat_minor": 5
}
